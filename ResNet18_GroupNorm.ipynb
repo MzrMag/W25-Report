{
 "cells": [
  {
   "cell_type": "code",
   "execution_count": 1,
   "id": "f773c41e-e30d-4779-99e3-8dd0d7aea96c",
   "metadata": {},
   "outputs": [],
   "source": [
    "%matplotlib inline\n",
    "import matplotlib.pyplot as plt\n",
    "import numpy as np\n",
    "import torch\n",
    "import torchvision\n",
    "import torchvision.transforms as transforms\n",
    "import torch.nn as nn\n",
    "import torch.optim as optim\n",
    "import torchvision.models as models\n",
    "import torch.nn.functional as F"
   ]
  },
  {
   "cell_type": "code",
   "execution_count": 2,
   "id": "93bf27c0-dbc2-462a-9c3b-ad729b48f805",
   "metadata": {},
   "outputs": [
    {
     "name": "stdout",
     "output_type": "stream",
     "text": [
      "Files already downloaded and verified\n",
      "Files already downloaded and verified\n"
     ]
    }
   ],
   "source": [
    "transform = transforms.Compose(\n",
    "    [transforms.ToTensor(),\n",
    "     transforms.Normalize((0.5, 0.5, 0.5), (0.5, 0.5, 0.5))])\n",
    "\n",
    "trainset = torchvision.datasets.CIFAR10(root='./data', train=True,\n",
    "                                        download=True, transform=transform)\n",
    "trainloader = torch.utils.data.DataLoader(trainset, batch_size=4,\n",
    "                                          shuffle=True, num_workers=2)\n",
    "\n",
    "testset = torchvision.datasets.CIFAR10(root='./data', train=False,\n",
    "                                       download=True, transform=transform)\n",
    "testloader = torch.utils.data.DataLoader(testset, batch_size=4,\n",
    "                                         shuffle=False, num_workers=2)\n",
    "\n",
    "classes =  trainset.classes"
   ]
  },
  {
   "cell_type": "markdown",
   "id": "db9262a8-1c70-4d63-b930-73e3edab5a45",
   "metadata": {},
   "source": [
    "# With Group Normalization"
   ]
  },
  {
   "cell_type": "code",
   "execution_count": 3,
   "id": "003cf312-58c0-4883-96f0-d160eb803e44",
   "metadata": {},
   "outputs": [],
   "source": [
    "def group_norm_layer(num_channels):\n",
    "    return nn.GroupNorm(num_groups=8, num_channels=num_channels)  \n"
   ]
  },
  {
   "cell_type": "markdown",
   "id": "e1ce99dc-c7e7-4aa6-8614-f5e4ca3b7211",
   "metadata": {},
   "source": [
    "# Defaulting Pooling + ReLU"
   ]
  },
  {
   "cell_type": "code",
   "execution_count": 23,
   "id": "055dc838-4498-4773-a544-e4adee5ad784",
   "metadata": {},
   "outputs": [
    {
     "name": "stderr",
     "output_type": "stream",
     "text": [
      "/opt/conda/lib/python3.11/site-packages/torchvision/models/_utils.py:223: UserWarning: Arguments other than a weight enum or `None` for 'weights' are deprecated since 0.13 and may be removed in the future. The current behavior is equivalent to passing `weights=None`.\n",
      "  warnings.warn(msg)\n"
     ]
    }
   ],
   "source": [
    "model = models.resnet18(norm_layer=group_norm_layer, pretrained=False)\n",
    "num_classes = 10\n",
    "model.fc = nn.Linear(model.fc.in_features, num_classes)"
   ]
  },
  {
   "cell_type": "code",
   "execution_count": 24,
   "id": "de342867-84a0-4579-a573-968bff18e975",
   "metadata": {},
   "outputs": [
    {
     "name": "stdout",
     "output_type": "stream",
     "text": [
      "cuda:0\n"
     ]
    }
   ],
   "source": [
    "device = torch.device(\"cuda:0\" if torch.cuda.is_available() else \"cpu\")\n",
    "model = model.to(device) \n",
    "print(device) "
   ]
  },
  {
   "cell_type": "code",
   "execution_count": 26,
   "id": "2444625e-7647-4975-99f5-bdf6e9516183",
   "metadata": {},
   "outputs": [],
   "source": [
    "# Use cross-entropy as loss function.\n",
    "loss_func = nn.CrossEntropyLoss()  \n",
    "# Use stochastic gradient descent (SGD) as optimizer.\n",
    "opt = optim.SGD(model.parameters(), lr=0.001, momentum=0.9) "
   ]
  },
  {
   "cell_type": "code",
   "execution_count": 27,
   "id": "f537abd5-2686-422c-ba15-3f50a0a1a8b5",
   "metadata": {},
   "outputs": [
    {
     "name": "stdout",
     "output_type": "stream",
     "text": [
      "[epoch: 0, i:   999] avg mini-batch loss: 1.828\n",
      "[epoch: 0, i:  1999] avg mini-batch loss: 1.879\n",
      "[epoch: 0, i:  2999] avg mini-batch loss: 1.655\n",
      "[epoch: 0, i:  3999] avg mini-batch loss: 1.611\n",
      "[epoch: 0, i:  4999] avg mini-batch loss: 1.713\n",
      "[epoch: 0, i:  5999] avg mini-batch loss: 1.517\n",
      "[epoch: 0, i:  6999] avg mini-batch loss: 1.527\n",
      "[epoch: 0, i:  7999] avg mini-batch loss: 1.489\n",
      "[epoch: 0, i:  8999] avg mini-batch loss: 1.446\n",
      "[epoch: 0, i:  9999] avg mini-batch loss: 1.371\n",
      "[epoch: 0, i: 10999] avg mini-batch loss: 1.359\n",
      "[epoch: 0, i: 11999] avg mini-batch loss: 1.261\n",
      "[epoch: 1, i:   999] avg mini-batch loss: 1.309\n",
      "[epoch: 1, i:  1999] avg mini-batch loss: 1.265\n",
      "[epoch: 1, i:  2999] avg mini-batch loss: 1.083\n",
      "[epoch: 1, i:  3999] avg mini-batch loss: 1.284\n",
      "[epoch: 1, i:  4999] avg mini-batch loss: 1.275\n",
      "[epoch: 1, i:  5999] avg mini-batch loss: 1.123\n",
      "[epoch: 1, i:  6999] avg mini-batch loss: 1.143\n",
      "[epoch: 1, i:  7999] avg mini-batch loss: 1.183\n",
      "[epoch: 1, i:  8999] avg mini-batch loss: 1.086\n",
      "[epoch: 1, i:  9999] avg mini-batch loss: 1.106\n",
      "[epoch: 1, i: 10999] avg mini-batch loss: 1.016\n",
      "[epoch: 1, i: 11999] avg mini-batch loss: 1.080\n",
      "[epoch: 2, i:   999] avg mini-batch loss: 0.985\n",
      "[epoch: 2, i:  1999] avg mini-batch loss: 0.955\n",
      "[epoch: 2, i:  2999] avg mini-batch loss: 0.949\n",
      "[epoch: 2, i:  3999] avg mini-batch loss: 0.975\n",
      "[epoch: 2, i:  4999] avg mini-batch loss: 1.058\n",
      "[epoch: 2, i:  5999] avg mini-batch loss: 1.107\n",
      "[epoch: 2, i:  6999] avg mini-batch loss: 0.901\n",
      "[epoch: 2, i:  7999] avg mini-batch loss: 0.994\n",
      "[epoch: 2, i:  8999] avg mini-batch loss: 0.867\n",
      "[epoch: 2, i:  9999] avg mini-batch loss: 0.948\n",
      "[epoch: 2, i: 10999] avg mini-batch loss: 0.976\n",
      "[epoch: 2, i: 11999] avg mini-batch loss: 0.848\n",
      "[epoch: 3, i:   999] avg mini-batch loss: 0.830\n",
      "[epoch: 3, i:  1999] avg mini-batch loss: 0.847\n",
      "[epoch: 3, i:  2999] avg mini-batch loss: 0.881\n",
      "[epoch: 3, i:  3999] avg mini-batch loss: 0.787\n",
      "[epoch: 3, i:  4999] avg mini-batch loss: 0.864\n",
      "[epoch: 3, i:  5999] avg mini-batch loss: 0.821\n",
      "[epoch: 3, i:  6999] avg mini-batch loss: 0.818\n",
      "[epoch: 3, i:  7999] avg mini-batch loss: 0.750\n",
      "[epoch: 3, i:  8999] avg mini-batch loss: 0.886\n",
      "[epoch: 3, i:  9999] avg mini-batch loss: 0.863\n",
      "[epoch: 3, i: 10999] avg mini-batch loss: 0.737\n",
      "[epoch: 3, i: 11999] avg mini-batch loss: 0.759\n",
      "[epoch: 4, i:   999] avg mini-batch loss: 0.719\n",
      "[epoch: 4, i:  1999] avg mini-batch loss: 0.726\n",
      "[epoch: 4, i:  2999] avg mini-batch loss: 0.876\n",
      "[epoch: 4, i:  3999] avg mini-batch loss: 0.791\n",
      "[epoch: 4, i:  4999] avg mini-batch loss: 0.727\n",
      "[epoch: 4, i:  5999] avg mini-batch loss: 0.815\n",
      "[epoch: 4, i:  6999] avg mini-batch loss: 0.746\n",
      "[epoch: 4, i:  7999] avg mini-batch loss: 0.664\n",
      "[epoch: 4, i:  8999] avg mini-batch loss: 0.734\n",
      "[epoch: 4, i:  9999] avg mini-batch loss: 0.741\n",
      "[epoch: 4, i: 10999] avg mini-batch loss: 0.707\n",
      "[epoch: 4, i: 11999] avg mini-batch loss: 0.743\n",
      "[epoch: 5, i:   999] avg mini-batch loss: 0.631\n",
      "[epoch: 5, i:  1999] avg mini-batch loss: 0.685\n",
      "[epoch: 5, i:  2999] avg mini-batch loss: 0.708\n",
      "[epoch: 5, i:  3999] avg mini-batch loss: 0.630\n",
      "[epoch: 5, i:  4999] avg mini-batch loss: 0.521\n",
      "[epoch: 5, i:  5999] avg mini-batch loss: 0.591\n",
      "[epoch: 5, i:  6999] avg mini-batch loss: 0.668\n",
      "[epoch: 5, i:  7999] avg mini-batch loss: 0.679\n",
      "[epoch: 5, i:  8999] avg mini-batch loss: 0.598\n",
      "[epoch: 5, i:  9999] avg mini-batch loss: 0.630\n",
      "[epoch: 5, i: 10999] avg mini-batch loss: 0.647\n",
      "[epoch: 5, i: 11999] avg mini-batch loss: 0.653\n",
      "[epoch: 6, i:   999] avg mini-batch loss: 0.564\n",
      "[epoch: 6, i:  1999] avg mini-batch loss: 0.512\n",
      "[epoch: 6, i:  2999] avg mini-batch loss: 0.549\n",
      "[epoch: 6, i:  3999] avg mini-batch loss: 0.567\n",
      "[epoch: 6, i:  4999] avg mini-batch loss: 0.608\n",
      "[epoch: 6, i:  5999] avg mini-batch loss: 0.610\n",
      "[epoch: 6, i:  6999] avg mini-batch loss: 0.575\n",
      "[epoch: 6, i:  7999] avg mini-batch loss: 0.598\n",
      "[epoch: 6, i:  8999] avg mini-batch loss: 0.557\n",
      "[epoch: 6, i:  9999] avg mini-batch loss: 0.602\n",
      "[epoch: 6, i: 10999] avg mini-batch loss: 0.520\n",
      "[epoch: 6, i: 11999] avg mini-batch loss: 0.586\n",
      "[epoch: 7, i:   999] avg mini-batch loss: 0.420\n",
      "[epoch: 7, i:  1999] avg mini-batch loss: 0.435\n",
      "[epoch: 7, i:  2999] avg mini-batch loss: 0.458\n",
      "[epoch: 7, i:  3999] avg mini-batch loss: 0.505\n",
      "[epoch: 7, i:  4999] avg mini-batch loss: 0.452\n",
      "[epoch: 7, i:  5999] avg mini-batch loss: 0.484\n",
      "[epoch: 7, i:  6999] avg mini-batch loss: 0.511\n",
      "[epoch: 7, i:  7999] avg mini-batch loss: 0.440\n",
      "[epoch: 7, i:  8999] avg mini-batch loss: 0.472\n",
      "[epoch: 7, i:  9999] avg mini-batch loss: 0.476\n",
      "[epoch: 7, i: 10999] avg mini-batch loss: 0.497\n",
      "[epoch: 7, i: 11999] avg mini-batch loss: 0.528\n",
      "[epoch: 8, i:   999] avg mini-batch loss: 0.408\n",
      "[epoch: 8, i:  1999] avg mini-batch loss: 0.383\n",
      "[epoch: 8, i:  2999] avg mini-batch loss: 0.427\n",
      "[epoch: 8, i:  3999] avg mini-batch loss: 0.369\n",
      "[epoch: 8, i:  4999] avg mini-batch loss: 0.391\n",
      "[epoch: 8, i:  5999] avg mini-batch loss: 0.466\n",
      "[epoch: 8, i:  6999] avg mini-batch loss: 0.448\n",
      "[epoch: 8, i:  7999] avg mini-batch loss: 0.370\n",
      "[epoch: 8, i:  8999] avg mini-batch loss: 0.476\n",
      "[epoch: 8, i:  9999] avg mini-batch loss: 0.350\n",
      "[epoch: 8, i: 10999] avg mini-batch loss: 0.434\n",
      "[epoch: 8, i: 11999] avg mini-batch loss: 0.370\n",
      "[epoch: 9, i:   999] avg mini-batch loss: 0.368\n",
      "[epoch: 9, i:  1999] avg mini-batch loss: 0.292\n",
      "[epoch: 9, i:  2999] avg mini-batch loss: 0.327\n",
      "[epoch: 9, i:  3999] avg mini-batch loss: 0.304\n",
      "[epoch: 9, i:  4999] avg mini-batch loss: 0.287\n",
      "[epoch: 9, i:  5999] avg mini-batch loss: 0.352\n",
      "[epoch: 9, i:  6999] avg mini-batch loss: 0.355\n",
      "[epoch: 9, i:  7999] avg mini-batch loss: 0.388\n",
      "[epoch: 9, i:  8999] avg mini-batch loss: 0.306\n",
      "[epoch: 9, i:  9999] avg mini-batch loss: 0.407\n",
      "[epoch: 9, i: 10999] avg mini-batch loss: 0.360\n",
      "[epoch: 9, i: 11999] avg mini-batch loss: 0.404\n",
      "Finished Training.\n"
     ]
    }
   ],
   "source": [
    "avg_losses = []   # Avg. losses.\n",
    "epochs = 10       # Total epochs.\n",
    "print_freq = 100  # Print frequency.\n",
    "\n",
    "for epoch in range(epochs):  # Loop over the dataset multiple times.\n",
    "    running_loss = 0.0       # Initialize running loss.\n",
    "    for i, data in enumerate(trainloader, 0):\n",
    "        # Get the inputs.\n",
    "        inputs, labels = data\n",
    "        \n",
    "        # Move the inputs to the specified device.\n",
    "        inputs, labels = inputs.to(device), labels.to(device)\n",
    "        \n",
    "        # Zero the parameter gradients.\n",
    "        opt.zero_grad()\n",
    "\n",
    "        # Forward step.\n",
    "        outputs = model(inputs)\n",
    "        loss = loss_func(outputs, labels)\n",
    "        \n",
    "        # Backward step.\n",
    "        loss.backward()\n",
    "        \n",
    "        # Optimization step (update the parameters).\n",
    "        opt.step()\n",
    "        running_loss += loss.item()\n",
    "        if i % print_freq == print_freq - 1: # Print every several mini-batches.\n",
    "            avg_loss = running_loss / print_freq\n",
    "            if i % 1000 == 1000 - 1:\n",
    "                print('[epoch: {}, i: {:5d}] avg mini-batch loss: {:.3f}'.format(\n",
    "                    epoch, i, avg_loss))\n",
    "            avg_losses.append(avg_loss)\n",
    "            running_loss = 0.0\n",
    "\n",
    "\n",
    "print('Finished Training.')"
   ]
  },
  {
   "cell_type": "code",
   "execution_count": 28,
   "id": "36b59fa7-e339-4f16-aae1-3691107ebab1",
   "metadata": {},
   "outputs": [
    {
     "data": {
      "image/png": "[encoded data removed]",
      "text/plain": [
       "<Figure size 640x480 with 1 Axes>"
      ]
     },
     "metadata": {},
     "output_type": "display_data"
    }
   ],
   "source": [
    "plt.plot(avg_losses)\n",
    "plt.xlabel('mini-batch index / {}'.format(print_freq))\n",
    "plt.ylabel('avg. mini-batch loss')\n",
    "plt.show()"
   ]
  },
  {
   "cell_type": "code",
   "execution_count": 29,
   "id": "4db0ce05-36f8-4389-bf86-a8d66443e09e",
   "metadata": {},
   "outputs": [
    {
     "name": "stdout",
     "output_type": "stream",
     "text": [
      "Accuracy of the network on the 10000 test images: 72 %\n"
     ]
    }
   ],
   "source": [
    "# Get test accuracy.\n",
    "correct = 0\n",
    "total = 0\n",
    "with torch.no_grad():\n",
    "    for data in testloader:\n",
    "        images, labels = data\n",
    "        images, labels = images.to(device), labels.to(device)\n",
    "        outputs = model(images)\n",
    "        _, predicted = torch.max(outputs.data, 1)\n",
    "        total += labels.size(0)\n",
    "        correct += (predicted == labels).sum().item()\n",
    "\n",
    "print('Accuracy of the network on the 10000 test images: %d %%' % (\n",
    "    100 * correct / total))"
   ]
  },
  {
   "cell_type": "code",
   "execution_count": 31,
   "id": "41a07e43-664b-4407-9b4c-7a955c9de79f",
   "metadata": {},
   "outputs": [
    {
     "name": "stdout",
     "output_type": "stream",
     "text": [
      "Accuracy of airplane : 81 %\n",
      "Accuracy of automobile : 71 %\n",
      "Accuracy of  bird : 64 %\n",
      "Accuracy of   cat : 51 %\n",
      "Accuracy of  deer : 68 %\n",
      "Accuracy of   dog : 62 %\n",
      "Accuracy of  frog : 84 %\n",
      "Accuracy of horse : 80 %\n",
      "Accuracy of  ship : 71 %\n",
      "Accuracy of truck : 88 %\n"
     ]
    }
   ],
   "source": [
    "# Get test accuracy for each class.\n",
    "class_correct = list(0. for i in range(10))\n",
    "class_total = list(0. for i in range(10))\n",
    "with torch.no_grad():\n",
    "    for data in testloader:\n",
    "        images, labels = data\n",
    "        images, labels = images.to(device), labels.to(device)\n",
    "        outputs = model(images)\n",
    "        _, predicted = torch.max(outputs, 1)\n",
    "        c = (predicted == labels).squeeze()\n",
    "        for i in range(4):\n",
    "            label = labels[i]\n",
    "            class_correct[label] += c[i].item()\n",
    "            class_total[label] += 1\n",
    "\n",
    "for i in range(10):\n",
    "    print('Accuracy of %5s : %2d %%' % (\n",
    "        classes[i], 100 * class_correct[i] / class_total[i]))"
   ]
  },
  {
   "cell_type": "code",
   "execution_count": null,
   "id": "0efb9a50-41d2-400f-b769-8e48a1bcca6c",
   "metadata": {},
   "outputs": [],
   "source": []
  },
  {
   "cell_type": "markdown",
   "id": "62f9160b-9f25-44ae-9263-537289323fa3",
   "metadata": {},
   "source": [
    "# Default Pooling + Sigmoid"
   ]
  },
  {
   "cell_type": "code",
   "execution_count": 37,
   "id": "bd256107-d136-4be5-865e-cc38d3b96a04",
   "metadata": {},
   "outputs": [],
   "source": [
    "model = models.resnet18(norm_layer=group_norm_layer, pretrained=False)\n",
    "num_classes = 10\n",
    "model.fc = nn.Linear(model.fc.in_features, num_classes)"
   ]
  },
  {
   "cell_type": "code",
   "execution_count": 38,
   "id": "3b899eac-62df-4143-9b13-4ef1a98c14f1",
   "metadata": {},
   "outputs": [],
   "source": [
    "def replace_relu_with_sigmoid(model):\n",
    "    for name, module in model.named_modules():\n",
    "        if isinstance(module, nn.ReLU):\n",
    "            parent = dict(model.named_modules())[name.rsplit('.', 1)[0]] if '.' in name else model\n",
    "            setattr(parent, name.split('.')[-1], nn.Sigmoid()) \n",
    "\n",
    "replace_relu_with_sigmoid(model)"
   ]
  },
  {
   "cell_type": "code",
   "execution_count": 39,
   "id": "95b4d659-5622-4ee3-be52-c8349a1f797e",
   "metadata": {},
   "outputs": [
    {
     "name": "stdout",
     "output_type": "stream",
     "text": [
      "cuda:0\n"
     ]
    }
   ],
   "source": [
    "device = torch.device(\"cuda:0\" if torch.cuda.is_available() else \"cpu\")\n",
    "model = model.to(device) \n",
    "print(device) "
   ]
  },
  {
   "cell_type": "code",
   "execution_count": 40,
   "id": "a00af4d1-0943-485d-8b5f-4738d0ff7920",
   "metadata": {},
   "outputs": [],
   "source": [
    "# Use cross-entropy as loss function.\n",
    "loss_func = nn.CrossEntropyLoss()  \n",
    "# Use stochastic gradient descent (SGD) as optimizer.\n",
    "opt = optim.SGD(model.parameters(), lr=0.001, momentum=0.9) "
   ]
  },
  {
   "cell_type": "code",
   "execution_count": 41,
   "id": "b52d8cf5-c33c-484a-a65f-24d7704b3218",
   "metadata": {},
   "outputs": [
    {
     "name": "stdout",
     "output_type": "stream",
     "text": [
      "[epoch: 0, i:    99] avg mini-batch loss: 2.458\n",
      "[epoch: 0, i:  1099] avg mini-batch loss: 2.413\n",
      "[epoch: 0, i:  2099] avg mini-batch loss: 2.425\n",
      "[epoch: 0, i:  3099] avg mini-batch loss: 2.409\n",
      "[epoch: 0, i:  4099] avg mini-batch loss: 2.416\n",
      "[epoch: 0, i:  5099] avg mini-batch loss: 2.406\n",
      "[epoch: 0, i:  6099] avg mini-batch loss: 2.408\n",
      "[epoch: 0, i:  7099] avg mini-batch loss: 2.412\n",
      "[epoch: 0, i:  8099] avg mini-batch loss: 2.395\n",
      "[epoch: 0, i:  9099] avg mini-batch loss: 2.382\n",
      "[epoch: 0, i: 10099] avg mini-batch loss: 2.386\n",
      "[epoch: 0, i: 11099] avg mini-batch loss: 2.435\n",
      "[epoch: 0, i: 12099] avg mini-batch loss: 2.372\n",
      "[epoch: 1, i:    99] avg mini-batch loss: 2.414\n",
      "[epoch: 1, i:  1099] avg mini-batch loss: 2.418\n",
      "[epoch: 1, i:  2099] avg mini-batch loss: 2.378\n",
      "[epoch: 1, i:  3099] avg mini-batch loss: 2.429\n",
      "[epoch: 1, i:  4099] avg mini-batch loss: 2.437\n",
      "[epoch: 1, i:  5099] avg mini-batch loss: 2.414\n",
      "[epoch: 1, i:  6099] avg mini-batch loss: 2.408\n",
      "[epoch: 1, i:  7099] avg mini-batch loss: 2.406\n",
      "[epoch: 1, i:  8099] avg mini-batch loss: 2.422\n",
      "[epoch: 1, i:  9099] avg mini-batch loss: 2.400\n",
      "[epoch: 1, i: 10099] avg mini-batch loss: 2.411\n",
      "[epoch: 1, i: 11099] avg mini-batch loss: 2.429\n",
      "[epoch: 1, i: 12099] avg mini-batch loss: 2.403\n",
      "[epoch: 2, i:    99] avg mini-batch loss: 2.382\n",
      "[epoch: 2, i:  1099] avg mini-batch loss: 2.418\n",
      "[epoch: 2, i:  2099] avg mini-batch loss: 2.390\n",
      "[epoch: 2, i:  3099] avg mini-batch loss: 2.395\n",
      "[epoch: 2, i:  4099] avg mini-batch loss: 2.426\n",
      "[epoch: 2, i:  5099] avg mini-batch loss: 2.403\n",
      "[epoch: 2, i:  6099] avg mini-batch loss: 2.377\n",
      "[epoch: 2, i:  7099] avg mini-batch loss: 2.379\n",
      "[epoch: 2, i:  8099] avg mini-batch loss: 2.368\n",
      "[epoch: 2, i:  9099] avg mini-batch loss: 2.401\n",
      "[epoch: 2, i: 10099] avg mini-batch loss: 2.401\n",
      "[epoch: 2, i: 11099] avg mini-batch loss: 2.404\n",
      "[epoch: 2, i: 12099] avg mini-batch loss: 2.397\n",
      "[epoch: 3, i:    99] avg mini-batch loss: 2.377\n",
      "[epoch: 3, i:  1099] avg mini-batch loss: 2.390\n",
      "[epoch: 3, i:  2099] avg mini-batch loss: 2.418\n",
      "[epoch: 3, i:  3099] avg mini-batch loss: 2.387\n",
      "[epoch: 3, i:  4099] avg mini-batch loss: 2.394\n",
      "[epoch: 3, i:  5099] avg mini-batch loss: 2.392\n",
      "[epoch: 3, i:  6099] avg mini-batch loss: 2.396\n",
      "[epoch: 3, i:  7099] avg mini-batch loss: 2.393\n",
      "[epoch: 3, i:  8099] avg mini-batch loss: 2.414\n",
      "[epoch: 3, i:  9099] avg mini-batch loss: 2.368\n",
      "[epoch: 3, i: 10099] avg mini-batch loss: 2.379\n",
      "[epoch: 3, i: 11099] avg mini-batch loss: 2.413\n",
      "[epoch: 3, i: 12099] avg mini-batch loss: 2.353\n",
      "[epoch: 4, i:    99] avg mini-batch loss: 2.422\n",
      "[epoch: 4, i:  1099] avg mini-batch loss: 2.389\n",
      "[epoch: 4, i:  2099] avg mini-batch loss: 2.398\n",
      "[epoch: 4, i:  3099] avg mini-batch loss: 2.428\n",
      "[epoch: 4, i:  4099] avg mini-batch loss: 2.358\n",
      "[epoch: 4, i:  5099] avg mini-batch loss: 2.382\n",
      "[epoch: 4, i:  6099] avg mini-batch loss: 2.407\n",
      "[epoch: 4, i:  7099] avg mini-batch loss: 2.393\n",
      "[epoch: 4, i:  8099] avg mini-batch loss: 2.354\n",
      "[epoch: 4, i:  9099] avg mini-batch loss: 2.381\n",
      "[epoch: 4, i: 10099] avg mini-batch loss: 2.392\n",
      "[epoch: 4, i: 11099] avg mini-batch loss: 2.387\n",
      "[epoch: 4, i: 12099] avg mini-batch loss: 2.364\n",
      "[epoch: 5, i:    99] avg mini-batch loss: 2.356\n",
      "[epoch: 5, i:  1099] avg mini-batch loss: 2.397\n",
      "[epoch: 5, i:  2099] avg mini-batch loss: 2.400\n",
      "[epoch: 5, i:  3099] avg mini-batch loss: 2.397\n",
      "[epoch: 5, i:  4099] avg mini-batch loss: 2.402\n",
      "[epoch: 5, i:  5099] avg mini-batch loss: 2.389\n",
      "[epoch: 5, i:  6099] avg mini-batch loss: 2.369\n",
      "[epoch: 5, i:  7099] avg mini-batch loss: 2.398\n",
      "[epoch: 5, i:  8099] avg mini-batch loss: 2.374\n",
      "[epoch: 5, i:  9099] avg mini-batch loss: 2.392\n",
      "[epoch: 5, i: 10099] avg mini-batch loss: 2.363\n",
      "[epoch: 5, i: 11099] avg mini-batch loss: 2.375\n",
      "[epoch: 5, i: 12099] avg mini-batch loss: 2.393\n",
      "[epoch: 6, i:    99] avg mini-batch loss: 2.397\n",
      "[epoch: 6, i:  1099] avg mini-batch loss: 2.401\n",
      "[epoch: 6, i:  2099] avg mini-batch loss: 2.424\n",
      "[epoch: 6, i:  3099] avg mini-batch loss: 2.396\n",
      "[epoch: 6, i:  4099] avg mini-batch loss: 2.375\n",
      "[epoch: 6, i:  5099] avg mini-batch loss: 2.413\n",
      "[epoch: 6, i:  6099] avg mini-batch loss: 2.390\n",
      "[epoch: 6, i:  7099] avg mini-batch loss: 2.385\n",
      "[epoch: 6, i:  8099] avg mini-batch loss: 2.369\n",
      "[epoch: 6, i:  9099] avg mini-batch loss: 2.381\n",
      "[epoch: 6, i: 10099] avg mini-batch loss: 2.382\n",
      "[epoch: 6, i: 11099] avg mini-batch loss: 2.383\n",
      "[epoch: 6, i: 12099] avg mini-batch loss: 2.376\n",
      "[epoch: 7, i:    99] avg mini-batch loss: 2.385\n",
      "[epoch: 7, i:  1099] avg mini-batch loss: 2.380\n",
      "[epoch: 7, i:  2099] avg mini-batch loss: 2.361\n",
      "[epoch: 7, i:  3099] avg mini-batch loss: 2.387\n",
      "[epoch: 7, i:  4099] avg mini-batch loss: 2.386\n",
      "[epoch: 7, i:  5099] avg mini-batch loss: 2.412\n",
      "[epoch: 7, i:  6099] avg mini-batch loss: 2.380\n",
      "[epoch: 7, i:  7099] avg mini-batch loss: 2.394\n",
      "[epoch: 7, i:  8099] avg mini-batch loss: 2.378\n",
      "[epoch: 7, i:  9099] avg mini-batch loss: 2.386\n",
      "[epoch: 7, i: 10099] avg mini-batch loss: 2.371\n",
      "[epoch: 7, i: 11099] avg mini-batch loss: 2.370\n",
      "[epoch: 7, i: 12099] avg mini-batch loss: 2.409\n",
      "[epoch: 8, i:    99] avg mini-batch loss: 2.391\n",
      "[epoch: 8, i:  1099] avg mini-batch loss: 2.385\n",
      "[epoch: 8, i:  2099] avg mini-batch loss: 2.373\n",
      "[epoch: 8, i:  3099] avg mini-batch loss: 2.413\n",
      "[epoch: 8, i:  4099] avg mini-batch loss: 2.388\n",
      "[epoch: 8, i:  5099] avg mini-batch loss: 2.384\n",
      "[epoch: 8, i:  6099] avg mini-batch loss: 2.358\n",
      "[epoch: 8, i:  7099] avg mini-batch loss: 2.394\n",
      "[epoch: 8, i:  8099] avg mini-batch loss: 2.381\n",
      "[epoch: 8, i:  9099] avg mini-batch loss: 2.380\n",
      "[epoch: 8, i: 10099] avg mini-batch loss: 2.356\n",
      "[epoch: 8, i: 11099] avg mini-batch loss: 2.405\n",
      "[epoch: 8, i: 12099] avg mini-batch loss: 2.382\n",
      "[epoch: 9, i:    99] avg mini-batch loss: 2.386\n",
      "[epoch: 9, i:  1099] avg mini-batch loss: 2.376\n",
      "[epoch: 9, i:  2099] avg mini-batch loss: 2.380\n",
      "[epoch: 9, i:  3099] avg mini-batch loss: 2.423\n",
      "[epoch: 9, i:  4099] avg mini-batch loss: 2.386\n",
      "[epoch: 9, i:  5099] avg mini-batch loss: 2.407\n",
      "[epoch: 9, i:  6099] avg mini-batch loss: 2.372\n",
      "[epoch: 9, i:  7099] avg mini-batch loss: 2.386\n",
      "[epoch: 9, i:  8099] avg mini-batch loss: 2.409\n",
      "[epoch: 9, i:  9099] avg mini-batch loss: 2.367\n",
      "[epoch: 9, i: 10099] avg mini-batch loss: 2.380\n",
      "[epoch: 9, i: 11099] avg mini-batch loss: 2.378\n",
      "[epoch: 9, i: 12099] avg mini-batch loss: 2.366\n",
      "Finished Training.\n"
     ]
    }
   ],
   "source": [
    "avg_losses = []   # Avg. losses.\n",
    "epochs = 10       # Total epochs.\n",
    "print_freq = 100  # Print frequency.\n",
    "\n",
    "for epoch in range(epochs):  # Loop over the dataset multiple times.\n",
    "    running_loss = 0.0       # Initialize running loss.\n",
    "    for i, data in enumerate(trainloader, 0):\n",
    "        # Get the inputs.\n",
    "        inputs, labels = data\n",
    "        \n",
    "        # Move the inputs to the specified device.\n",
    "        inputs, labels = inputs.to(device), labels.to(device)\n",
    "        \n",
    "        # Zero the parameter gradients.\n",
    "        opt.zero_grad()\n",
    "\n",
    "        # Forward step.\n",
    "        outputs = model(inputs)\n",
    "        loss = loss_func(outputs, labels)\n",
    "        \n",
    "        # Backward step.\n",
    "        loss.backward()\n",
    "        \n",
    "        # Optimization step (update the parameters).\n",
    "        opt.step()\n",
    "        running_loss += loss.item()\n",
    "        if i % print_freq == print_freq - 1: # Print every several mini-batches.\n",
    "            avg_loss = running_loss / print_freq\n",
    "            if i % 1000 == print_freq - 1:\n",
    "                print('[epoch: {}, i: {:5d}] avg mini-batch loss: {:.3f}'.format(\n",
    "                    epoch, i, avg_loss))\n",
    "            avg_losses.append(avg_loss)\n",
    "            running_loss = 0.0\n",
    "\n",
    "\n",
    "print('Finished Training.')"
   ]
  },
  {
   "cell_type": "code",
   "execution_count": 42,
   "id": "3e4b50c2-79c2-4763-b899-3cb88431d29c",
   "metadata": {},
   "outputs": [
    {
     "data": {
      "image/png": "[encoded data removed]",
      "text/plain": [
       "<Figure size 640x480 with 1 Axes>"
      ]
     },
     "metadata": {},
     "output_type": "display_data"
    }
   ],
   "source": [
    "plt.plot(avg_losses)\n",
    "plt.xlabel('mini-batch index / {}'.format(print_freq))\n",
    "plt.ylabel('avg. mini-batch loss')\n",
    "plt.show()"
   ]
  },
  {
   "cell_type": "code",
   "execution_count": 43,
   "id": "94a2e30b-2a36-45a7-84a6-eb0d1efde3d3",
   "metadata": {},
   "outputs": [
    {
     "name": "stdout",
     "output_type": "stream",
     "text": [
      "Accuracy of the network on the 10000 test images: 10 %\n"
     ]
    }
   ],
   "source": [
    "# Get test accuracy.\n",
    "correct = 0\n",
    "total = 0\n",
    "with torch.no_grad():\n",
    "    for data in testloader:\n",
    "        images, labels = data\n",
    "        images, labels = images.to(device), labels.to(device)\n",
    "        outputs = model(images)\n",
    "        _, predicted = torch.max(outputs.data, 1)\n",
    "        total += labels.size(0)\n",
    "        correct += (predicted == labels).sum().item()\n",
    "\n",
    "print('Accuracy of the network on the 10000 test images: %d %%' % (\n",
    "    100 * correct / total))"
   ]
  },
  {
   "cell_type": "code",
   "execution_count": 44,
   "id": "e14f4f03-9e1b-49f2-8d55-aa9b2804bb07",
   "metadata": {},
   "outputs": [
    {
     "name": "stdout",
     "output_type": "stream",
     "text": [
      "Accuracy of airplane :  0 %\n",
      "Accuracy of automobile :  0 %\n",
      "Accuracy of  bird :  0 %\n",
      "Accuracy of   cat :  0 %\n",
      "Accuracy of  deer :  0 %\n",
      "Accuracy of   dog :  0 %\n",
      "Accuracy of  frog : 100 %\n",
      "Accuracy of horse :  0 %\n",
      "Accuracy of  ship :  0 %\n",
      "Accuracy of truck :  0 %\n"
     ]
    }
   ],
   "source": [
    "# Get test accuracy for each class.\n",
    "class_correct = list(0. for i in range(100))\n",
    "class_total = list(0. for i in range(100))\n",
    "with torch.no_grad():\n",
    "    for data in testloader:\n",
    "        images, labels = data\n",
    "        images, labels = images.to(device), labels.to(device)\n",
    "        outputs = model(images)\n",
    "        _, predicted = torch.max(outputs, 1)\n",
    "        c = (predicted == labels).squeeze()\n",
    "        for i in range(4):\n",
    "            label = labels[i]\n",
    "            class_correct[label] += c[i].item()\n",
    "            class_total[label] += 1\n",
    "\n",
    "for i in range(10):\n",
    "    print('Accuracy of %5s : %2d %%' % (\n",
    "        classes[i], 100 * class_correct[i] / class_total[i]))"
   ]
  },
  {
   "cell_type": "markdown",
   "id": "9e21c73c-5100-4912-9ec4-8bce61af1d0d",
   "metadata": {},
   "source": [
    "# Average Pooling + ReLU"
   ]
  },
  {
   "cell_type": "code",
   "execution_count": 4,
   "id": "ee0135f9-d470-4293-985d-48622306e32d",
   "metadata": {},
   "outputs": [
    {
     "name": "stderr",
     "output_type": "stream",
     "text": [
      "/opt/conda/lib/python3.11/site-packages/torchvision/models/_utils.py:208: UserWarning: The parameter 'pretrained' is deprecated since 0.13 and may be removed in the future, please use 'weights' instead.\n",
      "  warnings.warn(\n",
      "/opt/conda/lib/python3.11/site-packages/torchvision/models/_utils.py:223: UserWarning: Arguments other than a weight enum or `None` for 'weights' are deprecated since 0.13 and may be removed in the future. The current behavior is equivalent to passing `weights=None`.\n",
      "  warnings.warn(msg)\n"
     ]
    }
   ],
   "source": [
    "model = models.resnet18(norm_layer=group_norm_layer, pretrained=False)\n",
    "num_classes = 10\n",
    "model.fc = nn.Linear(model.fc.in_features, num_classes)"
   ]
  },
  {
   "cell_type": "code",
   "execution_count": 5,
   "id": "8adf64f2-5191-4c69-aeb2-b564f2ad8229",
   "metadata": {},
   "outputs": [],
   "source": [
    "model.maxpool = nn.AvgPool2d(kernel_size=3, stride=2, padding=1)"
   ]
  },
  {
   "cell_type": "code",
   "execution_count": 6,
   "id": "3b5bfc92-8266-4710-b700-0bfc982aa10f",
   "metadata": {},
   "outputs": [
    {
     "name": "stdout",
     "output_type": "stream",
     "text": [
      "cuda:0\n"
     ]
    }
   ],
   "source": [
    "device = torch.device(\"cuda:0\" if torch.cuda.is_available() else \"cpu\")\n",
    "model = model.to(device) \n",
    "print(device) "
   ]
  },
  {
   "cell_type": "code",
   "execution_count": 7,
   "id": "d36e4591-2214-4c45-bd65-75cdde7f3b39",
   "metadata": {},
   "outputs": [],
   "source": [
    "# Use cross-entropy as loss function.\n",
    "loss_func = nn.CrossEntropyLoss()  \n",
    "# Use stochastic gradient descent (SGD) as optimizer.\n",
    "opt = optim.SGD(model.parameters(), lr=0.001, momentum=0.9) "
   ]
  },
  {
   "cell_type": "code",
   "execution_count": 8,
   "id": "8cde1dbb-8f2f-4988-b6f4-77da5387daa4",
   "metadata": {},
   "outputs": [
    {
     "name": "stdout",
     "output_type": "stream",
     "text": [
      "Finished Training.\n"
     ]
    }
   ],
   "source": [
    "avg_losses = []   # Avg. losses.\n",
    "epochs = 10       # Total epochs.\n",
    "print_freq = 100  # Print frequency.\n",
    "\n",
    "for epoch in range(epochs):  # Loop over the dataset multiple times.\n",
    "    running_loss = 0.0       # Initialize running loss.\n",
    "    for i, data in enumerate(trainloader, 0):\n",
    "        # Get the inputs.\n",
    "        inputs, labels = data\n",
    "        \n",
    "        # Move the inputs to the specified device.\n",
    "        inputs, labels = inputs.to(device), labels.to(device)\n",
    "        \n",
    "        # Zero the parameter gradients.\n",
    "        opt.zero_grad()\n",
    "\n",
    "        # Forward step.\n",
    "        outputs = model(inputs)\n",
    "        loss = loss_func(outputs, labels)\n",
    "        \n",
    "        # Backward step.\n",
    "        loss.backward()\n",
    "        \n",
    "        # Optimization step (update the parameters).\n",
    "        opt.step()\n",
    "        running_loss += loss.item()\n",
    "        if i % print_freq == print_freq - 1: # Print every several mini-batches.\n",
    "            avg_loss = running_loss / print_freq\n",
    "            #print('[epoch: {}, i: {:5d}] avg mini-batch loss: {:.3f}'.format(\n",
    "                #epoch, i, avg_loss))\n",
    "            avg_losses.append(avg_loss)\n",
    "            running_loss = 0.0\n",
    "\n",
    "\n",
    "print('Finished Training.')"
   ]
  },
  {
   "cell_type": "code",
   "execution_count": 9,
   "id": "55a21fd9-ee00-4ac6-ba86-d356a1d09d61",
   "metadata": {},
   "outputs": [
    {
     "data": {
      "image/png": "[encoded data removed]",
      "text/plain": [
       "<Figure size 640x480 with 1 Axes>"
      ]
     },
     "metadata": {},
     "output_type": "display_data"
    }
   ],
   "source": [
    "plt.plot(avg_losses)\n",
    "plt.xlabel('mini-batch index / {}'.format(print_freq))\n",
    "plt.ylabel('avg. mini-batch loss')\n",
    "plt.show()"
   ]
  },
  {
   "cell_type": "code",
   "execution_count": 10,
   "id": "cf46eede-653e-44ee-9352-3254e23d76aa",
   "metadata": {},
   "outputs": [
    {
     "name": "stdout",
     "output_type": "stream",
     "text": [
      "Accuracy of the network on the 10000 test images: 69 %\n"
     ]
    }
   ],
   "source": [
    "# Get test accuracy.\n",
    "correct = 0\n",
    "total = 0\n",
    "with torch.no_grad():\n",
    "    for data in testloader:\n",
    "        images, labels = data\n",
    "        images, labels = images.to(device), labels.to(device)\n",
    "        outputs = model(images)\n",
    "        _, predicted = torch.max(outputs.data, 1)\n",
    "        total += labels.size(0)\n",
    "        correct += (predicted == labels).sum().item()\n",
    "\n",
    "print('Accuracy of the network on the 10000 test images: %d %%' % (\n",
    "    100 * correct / total))"
   ]
  },
  {
   "cell_type": "code",
   "execution_count": 11,
   "id": "7a37e6c6-e468-480d-8397-d582ecf42313",
   "metadata": {},
   "outputs": [
    {
     "name": "stdout",
     "output_type": "stream",
     "text": [
      "Accuracy of airplane : 80 %\n",
      "Accuracy of automobile : 77 %\n",
      "Accuracy of  bird : 51 %\n",
      "Accuracy of   cat : 51 %\n",
      "Accuracy of  deer : 76 %\n",
      "Accuracy of   dog : 57 %\n",
      "Accuracy of  frog : 71 %\n",
      "Accuracy of horse : 72 %\n",
      "Accuracy of  ship : 83 %\n",
      "Accuracy of truck : 70 %\n"
     ]
    }
   ],
   "source": [
    "# Get test accuracy for each class.\n",
    "class_correct = list(0. for i in range(10))\n",
    "class_total = list(0. for i in range(10))\n",
    "with torch.no_grad():\n",
    "    for data in testloader:\n",
    "        images, labels = data\n",
    "        images, labels = images.to(device), labels.to(device)\n",
    "        outputs = model(images)\n",
    "        _, predicted = torch.max(outputs, 1)\n",
    "        c = (predicted == labels).squeeze()\n",
    "        for i in range(4):\n",
    "            label = labels[i]\n",
    "            class_correct[label] += c[i].item()\n",
    "            class_total[label] += 1\n",
    "\n",
    "for i in range(10):\n",
    "    print('Accuracy of %5s : %2d %%' % (\n",
    "        classes[i], 100 * class_correct[i] / class_total[i]))"
   ]
  },
  {
   "cell_type": "markdown",
   "id": "68a96890-4815-42d5-90fe-dab82d5078e4",
   "metadata": {},
   "source": [
    "# Average Pooling + Sigmoid"
   ]
  },
  {
   "cell_type": "code",
   "execution_count": 21,
   "id": "5aeffda5-ffb9-40c1-80af-5375acc03d02",
   "metadata": {},
   "outputs": [],
   "source": [
    "device = torch.device(\"cuda\" if torch.cuda.is_available() else \"cpu\")\n",
    "\n",
    "model = models.resnet18(norm_layer=group_norm_layer, pretrained=False)\n",
    "model.fc = nn.Linear(model.fc.in_features, 10)\n",
    "model.maxpool = nn.AvgPool2d(kernel_size=3, stride=2, padding=1)\n",
    "replace_relu_with_sigmoid(model)\n",
    "model = model.to(device)\n",
    "\n"
   ]
  },
  {
   "cell_type": "code",
   "execution_count": 22,
   "id": "5b657be3-9c2a-4729-8078-ca941ee12b4b",
   "metadata": {},
   "outputs": [],
   "source": [
    "# Use cross-entropy as loss function.\n",
    "loss_func = nn.CrossEntropyLoss()  \n",
    "# Use stochastic gradient descent (SGD) as optimizer.\n",
    "opt = optim.SGD(model.parameters(), lr=0.001, momentum=0.9) "
   ]
  },
  {
   "cell_type": "code",
   "execution_count": 23,
   "id": "3aff9b97-a705-44f2-99f4-f09729df6223",
   "metadata": {},
   "outputs": [
    {
     "name": "stdout",
     "output_type": "stream",
     "text": [
      "Finished Training.\n"
     ]
    }
   ],
   "source": [
    "avg_losses = []   # Avg. losses.\n",
    "epochs = 10       # Total epochs.\n",
    "print_freq = 100  # Print frequency.\n",
    "\n",
    "for epoch in range(epochs):  # Loop over the dataset multiple times.\n",
    "    running_loss = 0.0       # Initialize running loss.\n",
    "    for i, data in enumerate(trainloader, 0):\n",
    "        # Get the inputs.\n",
    "        inputs, labels = data\n",
    "        \n",
    "        # Move the inputs to the specified device.\n",
    "        inputs, labels = inputs.to(device), labels.to(device)\n",
    "        \n",
    "        # Zero the parameter gradients.\n",
    "        opt.zero_grad()\n",
    "\n",
    "        # Forward step.\n",
    "        outputs = model(inputs)\n",
    "        loss = loss_func(outputs, labels)\n",
    "        \n",
    "        # Backward step.\n",
    "        loss.backward()\n",
    "        \n",
    "        # Optimization step (update the parameters).\n",
    "        opt.step()\n",
    "        running_loss += loss.item()\n",
    "        if i % print_freq == print_freq - 1: # Print every several mini-batches.\n",
    "            avg_loss = running_loss / print_freq\n",
    "            #print('[epoch: {}, i: {:5d}] avg mini-batch loss: {:.3f}'.format(\n",
    "                #epoch, i, avg_loss))\n",
    "            avg_losses.append(avg_loss)\n",
    "            running_loss = 0.0\n",
    "\n",
    "\n",
    "print('Finished Training.')"
   ]
  },
  {
   "cell_type": "code",
   "execution_count": 24,
   "id": "7ac2da17-857b-4512-b232-5b94f40e922e",
   "metadata": {},
   "outputs": [
    {
     "data": {
      "image/png": "[encoded data removed]",
      "text/plain": [
       "<Figure size 640x480 with 1 Axes>"
      ]
     },
     "metadata": {},
     "output_type": "display_data"
    }
   ],
   "source": [
    "plt.plot(avg_losses)\n",
    "plt.xlabel('mini-batch index / {}'.format(print_freq))\n",
    "plt.ylabel('avg. mini-batch loss')\n",
    "plt.show()"
   ]
  },
  {
   "cell_type": "code",
   "execution_count": 25,
   "id": "a078cfbf-ef40-4407-89e3-3d1a95083951",
   "metadata": {},
   "outputs": [
    {
     "name": "stdout",
     "output_type": "stream",
     "text": [
      "Accuracy of the network on the 10000 test images: 10 %\n"
     ]
    }
   ],
   "source": [
    "# Get test accuracy.\n",
    "correct = 0\n",
    "total = 0\n",
    "with torch.no_grad():\n",
    "    for data in testloader:\n",
    "        images, labels = data\n",
    "        images, labels = images.to(device), labels.to(device)\n",
    "        outputs = model(images)\n",
    "        _, predicted = torch.max(outputs.data, 1)\n",
    "        total += labels.size(0)\n",
    "        correct += (predicted == labels).sum().item()\n",
    "\n",
    "print('Accuracy of the network on the 10000 test images: %d %%' % (\n",
    "    100 * correct / total))"
   ]
  },
  {
   "cell_type": "code",
   "execution_count": 26,
   "id": "68f00e85-846d-4ee2-a409-56b0f36583d3",
   "metadata": {},
   "outputs": [
    {
     "name": "stdout",
     "output_type": "stream",
     "text": [
      "Accuracy of airplane :  0 %\n",
      "Accuracy of automobile :  0 %\n",
      "Accuracy of  bird :  0 %\n",
      "Accuracy of   cat :  0 %\n",
      "Accuracy of  deer :  0 %\n",
      "Accuracy of   dog : 100 %\n",
      "Accuracy of  frog :  0 %\n",
      "Accuracy of horse :  0 %\n",
      "Accuracy of  ship :  0 %\n",
      "Accuracy of truck :  0 %\n"
     ]
    }
   ],
   "source": [
    "# Get test accuracy for each class.\n",
    "class_correct = list(0. for i in range(10))\n",
    "class_total = list(0. for i in range(10))\n",
    "with torch.no_grad():\n",
    "    for data in testloader:\n",
    "        images, labels = data\n",
    "        images, labels = images.to(device), labels.to(device)\n",
    "        outputs = model(images)\n",
    "        _, predicted = torch.max(outputs, 1)\n",
    "        c = (predicted == labels).squeeze()\n",
    "        for i in range(4):\n",
    "            label = labels[i]\n",
    "            class_correct[label] += c[i].item()\n",
    "            class_total[label] += 1\n",
    "\n",
    "for i in range(10):\n",
    "    print('Accuracy of %5s : %2d %%' % (\n",
    "        classes[i], 100 * class_correct[i] / class_total[i]))"
   ]
  },
  {
   "cell_type": "code",
   "execution_count": null,
   "id": "c76527c9-7c76-425d-9477-2ffd734e885d",
   "metadata": {},
   "outputs": [],
   "source": []
  }
 ],
 "metadata": {
  "kernelspec": {
   "display_name": "Python 3 (ipykernel)",
   "language": "python",
   "name": "python3"
  },
  "language_info": {
   "codemirror_mode": {
    "name": "ipython",
    "version": 3
   },
   "file_extension": ".py",
   "mimetype": "text/x-python",
   "name": "python",
   "nbconvert_exporter": "python",
   "pygments_lexer": "ipython3",
   "version": "3.11.9"
  }
 },
 "nbformat": 4,
 "nbformat_minor": 5
}
